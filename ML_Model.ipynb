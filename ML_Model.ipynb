{
  "nbformat": 4,
  "nbformat_minor": 0,
  "metadata": {
    "colab": {
      "provenance": [],
      "authorship_tag": "ABX9TyN44FHSdGnxSGWlrMNcMY4b",
      "include_colab_link": true
    },
    "kernelspec": {
      "name": "python3",
      "display_name": "Python 3"
    },
    "language_info": {
      "name": "python"
    }
  },
  "cells": [
    {
      "cell_type": "markdown",
      "metadata": {
        "id": "view-in-github",
        "colab_type": "text"
      },
      "source": [
        "<a href=\"https://colab.research.google.com/github/DeekshithGL/ColabNotebooks/blob/main/ML_Model.ipynb\" target=\"_parent\"><img src=\"https://colab.research.google.com/assets/colab-badge.svg\" alt=\"Open In Colab\"/></a>"
      ]
    },
    {
      "cell_type": "code",
      "execution_count": 1,
      "metadata": {
        "id": "aXn4jm0vOKaq"
      },
      "outputs": [],
      "source": [
        "import numpy as np\n",
        "import pandas as pd\n",
        "import matplotlib.pyplot as plt"
      ]
    },
    {
      "cell_type": "code",
      "source": [
        "from sklearn.datasets import load_iris\n",
        "iris = load_iris()\n",
        "\n",
        "print(iris.feature_names)"
      ],
      "metadata": {
        "colab": {
          "base_uri": "https://localhost:8080/"
        },
        "id": "3V1ybXR2OZEt",
        "outputId": "61dfb331-906b-4075-f0fb-55a440013d5e"
      },
      "execution_count": 2,
      "outputs": [
        {
          "output_type": "stream",
          "name": "stdout",
          "text": [
            "['sepal length (cm)', 'sepal width (cm)', 'petal length (cm)', 'petal width (cm)']\n"
          ]
        }
      ]
    },
    {
      "cell_type": "code",
      "source": [
        "iris_df = pd.DataFrame(data = iris.data, columns = iris.feature_names)\n",
        "iris_df['target'] = iris.target\n",
        "iris_df = iris_df.dropna()\n",
        "\n",
        "print(iris_df.head())"
      ],
      "metadata": {
        "colab": {
          "base_uri": "https://localhost:8080/"
        },
        "id": "YfXqrPlVOtVv",
        "outputId": "f4a2ebfe-3750-42e2-f56e-8681a0ecaae4"
      },
      "execution_count": 3,
      "outputs": [
        {
          "output_type": "stream",
          "name": "stdout",
          "text": [
            "   sepal length (cm)  sepal width (cm)  petal length (cm)  petal width (cm)  \\\n",
            "0                5.1               3.5                1.4               0.2   \n",
            "1                4.9               3.0                1.4               0.2   \n",
            "2                4.7               3.2                1.3               0.2   \n",
            "3                4.6               3.1                1.5               0.2   \n",
            "4                5.0               3.6                1.4               0.2   \n",
            "\n",
            "   target  \n",
            "0       0  \n",
            "1       0  \n",
            "2       0  \n",
            "3       0  \n",
            "4       0  \n"
          ]
        }
      ]
    },
    {
      "cell_type": "code",
      "source": [
        "X = iris.data\n",
        "y = iris.target\n",
        "\n",
        "from sklearn.model_selection import train_test_split\n",
        "X_train, X_test, y_train, y_test = train_test_split(X, y, test_size = 0.25, random_state = 42)"
      ],
      "metadata": {
        "id": "wi9YnTjwPORn"
      },
      "execution_count": 4,
      "outputs": []
    },
    {
      "cell_type": "code",
      "source": [
        "from sklearn.tree import DecisionTreeClassifier\n",
        "model1 = DecisionTreeClassifier()\n",
        "\n",
        "model1.fit(X_train, y_train)\n",
        "\n",
        "y_pred1 = model1.predict(X_test)"
      ],
      "metadata": {
        "id": "gH4hBT6MQeJF"
      },
      "execution_count": 16,
      "outputs": []
    },
    {
      "cell_type": "code",
      "source": [
        "from sklearn.svm import SVC\n",
        "model2 = SVC()\n",
        "model2.fit(X_train, y_train)\n",
        "y_pred2 = model2.predict(X_test)"
      ],
      "metadata": {
        "id": "hvr_4MeJ6Jo5"
      },
      "execution_count": 22,
      "outputs": []
    },
    {
      "cell_type": "code",
      "source": [
        "from sklearn.metrics import accuracy_score\n",
        "print(\"Accuracy score: \", accuracy_score(y_test, y_pred1))\n",
        "print(\"Accuracy score: \", accuracy_score(y_test, y_pred2))"
      ],
      "metadata": {
        "colab": {
          "base_uri": "https://localhost:8080/"
        },
        "id": "2WrN_-5KQxer",
        "outputId": "dcc9d29d-df48-4a28-fd79-9046d730b009"
      },
      "execution_count": 27,
      "outputs": [
        {
          "output_type": "stream",
          "name": "stdout",
          "text": [
            "Accuracy score:  1.0\n",
            "Accuracy score:  1.0\n"
          ]
        }
      ]
    },
    {
      "cell_type": "code",
      "source": [
        "import pickle\n",
        "\n",
        "with open('decision_tree.pkl', 'wb') as file:\n",
        "  pickle.dump(model1, file)\n",
        "\n",
        "with open('svm.pkl', 'wb') as file:\n",
        "  pickle.dump(model2, file)"
      ],
      "metadata": {
        "id": "c7lVcXnpRGxs"
      },
      "execution_count": 23,
      "outputs": []
    },
    {
      "cell_type": "code",
      "source": [
        "with open('decision_tree.pkl', 'rb') as file:\n",
        "  loaded_model1 = pickle.load(file)\n",
        "\n",
        "with open('svm.pkl', 'rb') as file:\n",
        "  loaded_model2 = pickle.load(file)"
      ],
      "metadata": {
        "id": "8i_sPCPkRpwT"
      },
      "execution_count": 24,
      "outputs": []
    },
    {
      "cell_type": "code",
      "source": [
        "new_data = [[6.9, 3.1, 5.1, 2.3], [5.1, 3.5, 1.4, 0.2], [6.2, 2.9, 4.3, 1.3], [7.3, 3.3, 6.3, 2.5], [6.3, 3, 5.5, 2]]\n",
        "\n",
        "predictions1 = loaded_model1.predict(new_data)\n",
        "predictions2 = loaded_model2.predict(new_data)\n",
        "labels = ['Setosa', 'Versicolor', 'Virginica']\n",
        "print(\"Decision Tree Predictions: \")\n",
        "for i in predictions1:\n",
        "  print(i, '\\t', labels[i - 1])\n",
        "\n",
        "print(\"\\nSVM Predictions: \")\n",
        "for i in predictions2:\n",
        "  print(i, '\\t', labels[i - 1])"
      ],
      "metadata": {
        "colab": {
          "base_uri": "https://localhost:8080/"
        },
        "id": "O1dLmAFSR4De",
        "outputId": "8b7ab5a5-ed60-4108-b6a6-202422d7d388"
      },
      "execution_count": 26,
      "outputs": [
        {
          "output_type": "stream",
          "name": "stdout",
          "text": [
            "Decision Tree Predictions: \n",
            "2 \t Versicolor\n",
            "0 \t Virginica\n",
            "1 \t Setosa\n",
            "2 \t Versicolor\n",
            "2 \t Versicolor\n",
            "\n",
            "SVM Predictions: \n",
            "2 \t Versicolor\n",
            "0 \t Virginica\n",
            "1 \t Setosa\n",
            "2 \t Versicolor\n",
            "2 \t Versicolor\n"
          ]
        }
      ]
    },
    {
      "cell_type": "code",
      "source": [],
      "metadata": {
        "id": "FGHg2Ka7Sc81"
      },
      "execution_count": 9,
      "outputs": []
    }
  ]
}